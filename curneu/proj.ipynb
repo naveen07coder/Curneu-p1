{
 "cells": [
  {
   "cell_type": "code",
   "execution_count": 41,
   "metadata": {},
   "outputs": [],
   "source": [
    "import cv2\n",
    "import numpy as np\n",
    "\n",
    "cap = cv2.VideoCapture(r\"Mask_RCNN-master\\curneu\\DS-IQ-005-OcclusionFactor-Video.mp4\")\n",
    "\n",
    "# object_detector = cv2.createBackgroundSubtractorKNN(history= 40)\n",
    "\n",
    "# object_detector = cv2.createBackgroundSubtractorMOG2(history=40, varThreshold=250, detectShadows = False)"
   ]
  },
  {
   "cell_type": "code",
   "execution_count": 42,
   "metadata": {},
   "outputs": [
    {
     "ename": "error",
     "evalue": "OpenCV(4.5.5) :-1: error: (-5:Bad argument) in function 'cvtColor'\n> Overload resolution failed:\n>  - src is not a numerical tuple\n>  - Expected Ptr<cv::UMat> for argument 'src'\n",
     "output_type": "error",
     "traceback": [
      "\u001b[1;31m---------------------------------------------------------------------------\u001b[0m",
      "\u001b[1;31merror\u001b[0m                                     Traceback (most recent call last)",
      "\u001b[1;32mc:\\Users\\Aashak\\Downloads\\Mask_RCNN-master\\Mask_RCNN-master\\curneu\\proj.ipynb Cell 2'\u001b[0m in \u001b[0;36m<cell line: 2>\u001b[1;34m()\u001b[0m\n\u001b[0;32m      <a href='vscode-notebook-cell:/c%3A/Users/Aashak/Downloads/Mask_RCNN-master/Mask_RCNN-master/curneu/proj.ipynb#ch0000001?line=1'>2</a>\u001b[0m \u001b[39mwhile\u001b[39;00m \u001b[39mTrue\u001b[39;00m:\n\u001b[0;32m      <a href='vscode-notebook-cell:/c%3A/Users/Aashak/Downloads/Mask_RCNN-master/Mask_RCNN-master/curneu/proj.ipynb#ch0000001?line=2'>3</a>\u001b[0m     origFrame \u001b[39m=\u001b[39m cap\u001b[39m.\u001b[39mread()\n\u001b[1;32m----> <a href='vscode-notebook-cell:/c%3A/Users/Aashak/Downloads/Mask_RCNN-master/Mask_RCNN-master/curneu/proj.ipynb#ch0000001?line=3'>4</a>\u001b[0m     frame \u001b[39m=\u001b[39m cv2\u001b[39m.\u001b[39;49mcvtColor(origFrame, cv2\u001b[39m.\u001b[39;49mCOLOR_BGR2GRAY)\n\u001b[0;32m      <a href='vscode-notebook-cell:/c%3A/Users/Aashak/Downloads/Mask_RCNN-master/Mask_RCNN-master/curneu/proj.ipynb#ch0000001?line=4'>5</a>\u001b[0m     roi \u001b[39m=\u001b[39m frame[\u001b[39m1000\u001b[39m: \u001b[39m500\u001b[39m, \u001b[39m500\u001b[39m: \u001b[39m1000\u001b[39m]\n\u001b[0;32m      <a href='vscode-notebook-cell:/c%3A/Users/Aashak/Downloads/Mask_RCNN-master/Mask_RCNN-master/curneu/proj.ipynb#ch0000001?line=5'>6</a>\u001b[0m     \u001b[39mif\u001b[39;00m prev\u001b[39m.\u001b[39mshape\u001b[39m!=\u001b[39m(\u001b[39m0\u001b[39m, \u001b[39m0\u001b[39m, \u001b[39m0\u001b[39m): \n",
      "\u001b[1;31merror\u001b[0m: OpenCV(4.5.5) :-1: error: (-5:Bad argument) in function 'cvtColor'\n> Overload resolution failed:\n>  - src is not a numerical tuple\n>  - Expected Ptr<cv::UMat> for argument 'src'\n"
     ]
    }
   ],
   "source": [
    "prev = np.empty([0,0,0])\n",
    "while True:\n",
    "    origFrame = cap.read()\n",
    "    frame = cv2.cvtColor(origFrame, cv2.COLOR_BGR2GRAY)\n",
    "    roi = frame[1000: 700, 700: 1000]\n",
    "    if prev.shape!=(0, 0, 0): \n",
    "        diff = cv2.absdiff(prev, roi)\n",
    "        ret, thresh = cv2.threshold(diff, 75, 255, cv2.THRESH_BINARY)\n",
    "        # apply image dilation\n",
    "        kernel = np.ones((5,5),np.uint8)\n",
    "        dilated = cv2.dilate(thresh,kernel,iterations = 1)\n",
    "        # eroded = cv2.erode(dilated, kernel, iterations=1)\n",
    "        blurred = cv2.blur(dilated, (5, 5))\n",
    "        contours, hierarchy = cv2.findContours(blurred.copy(),cv2.RETR_TREE,cv2.CHAIN_APPROX_SIMPLE)\n",
    "\n",
    "        contours = [contour for contour in contours if cv2.contourArea(contour)>100]\n",
    "        contoursLen = str(len(contours))\n",
    "\n",
    "        for contour in contours:\n",
    "                # cv2.drawContours(orig, [contour], -1, (0, 255, 0), 2)\n",
    "                x, y, w, h = cv2.boundingRect(contour)\n",
    "                cv2.rectangle(origFrame, (x+500, y+200), (x+w+500, y+h+200), (0, 255, 0), 2)\n",
    "                cv2.putText(origFrame, contoursLen, (1200, 700), cv2.FONT_HERSHEY_SIMPLEX, 1, (0, 255, 0), 2, cv2.LINE_AA)\n",
    "    cv2.imshow(\"Frame\", origFrame)\n",
    "    # frame = cv2.GaussianBlur(frame, (5, 5), 0)\n",
    "    # frame = cv2.blur(frame, (15, 15))\n",
    "    # kernel = np.ones((3,3),np.uint8)\n",
    "    # frame = cv2.dilate(frame, kernel, iterations=1)\n",
    "    # Region of interest\n",
    "    # print(height, width) 720 X 1280\n",
    "    # roi = frame[200:500, 200: 1000]\n",
    "\n",
    "    # mask = object_detector.apply(roi)\n",
    "    # _, mask = cv2.threshold(mask, 30, 255, cv2.THRESH_BINARY)\n",
    "    # contours, _ = cv2.findContours(mask, cv2.RETR_TREE, cv2.CHAIN_APPROX_SIMPLE)\n",
    "\n",
    "    # contours = sorted(contours, reverse=True, key= lambda x: cv2.contourArea(x))\n",
    "    # if contours: print(contours[0], contours[0].shape, cv2.contourArea(contours[0]))\n",
    "\n",
    "    # for cnt in contours: \n",
    "    #     area = cv2.contourArea(cnt)\n",
    "    #     if area>50:\n",
    "    #         # cv2.drawContours(roi, [cnt], -1, (0, 255, 0), 2)\n",
    "    #         x, y, w, h = cv2.boundingRect(cnt)\n",
    "    #         cv2.rectangle(roi, (x,y), (x+w, y+h), (0, 255, 0), 3)\n",
    "\n",
    "    # cv2.imshow(\"ROI\", roi)\n",
    "    # cv2.imshow(\"Frame\", frame)\n",
    "    prev = frame[1000: 500, 500: 1000]\n",
    "    # cv2.imshow(\"Mask\", mask)\n",
    "\n",
    "    key = cv2.waitKey(30)\n",
    " \n",
    "    if key == 27:\n",
    "        break\n",
    "\n",
    "cap.release()\n",
    "cv2.destroyAllWindows()"
   ]
  },
  {
   "cell_type": "code",
   "execution_count": null,
   "metadata": {},
   "outputs": [],
   "source": []
  }
 ],
 "metadata": {
  "interpreter": {
   "hash": "3b5b9f1a27e9b69fe00f2ea82bd6bea5851114108fd6bcda316a8baff268b007"
  },
  "kernelspec": {
   "display_name": "Python 3.10.4 64-bit",
   "language": "python",
   "name": "python3"
  },
  "language_info": {
   "codemirror_mode": {
    "name": "ipython",
    "version": 3
   },
   "file_extension": ".py",
   "mimetype": "text/x-python",
   "name": "python",
   "nbconvert_exporter": "python",
   "pygments_lexer": "ipython3",
   "version": "3.10.4"
  },
  "orig_nbformat": 4
 },
 "nbformat": 4,
 "nbformat_minor": 2
}
