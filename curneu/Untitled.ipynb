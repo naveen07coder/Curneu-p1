{
 "cells": [
  {
   "cell_type": "code",
   "execution_count": 12,
   "id": "96de3d70",
   "metadata": {},
   "outputs": [
    {
     "ename": "SyntaxError",
     "evalue": "(unicode error) 'unicodeescape' codec can't decode bytes in position 2-3: truncated \\UXXXXXXXX escape (Temp/ipykernel_2120/2924669000.py, line 4)",
     "output_type": "error",
     "traceback": [
      "\u001b[1;36m  File \u001b[1;32m\"C:\\Users\\Aashak\\AppData\\Local\\Temp/ipykernel_2120/2924669000.py\"\u001b[1;36m, line \u001b[1;32m4\u001b[0m\n\u001b[1;33m    cap = cv2.VideoCapture(\"C:\\Users\\Aashak\\Downloads\\Mask_RCNN-master\\Mask_RCNN-master\\curneu\\Copy of DS-IQ-005-OcclusionFactor-Video.mp4\")\u001b[0m\n\u001b[1;37m                                                                                                                                           ^\u001b[0m\n\u001b[1;31mSyntaxError\u001b[0m\u001b[1;31m:\u001b[0m (unicode error) 'unicodeescape' codec can't decode bytes in position 2-3: truncated \\UXXXXXXXX escape\n"
     ]
    }
   ],
   "source": [
    "import cv2\n",
    "import numpy as np\n",
    "\n",
    "cap = cv2.VideoCapture(\"C:\\Users\\Aashak\\Downloads\\Mask_RCNN-master\\Mask_RCNN-master\\curneu\\Copy of DS-IQ-005-OcclusionFactor-Video.mp4\")\n",
    "\n",
    "# object_detector = cv2.createBackgroundSubtractorKNN(history= 40)\n",
    "\n",
    "# object_detector = cv2.createBackgroundSubtractorMOG2(history=40, varThreshold=250, detectShadows = False)"
   ]
  },
  {
   "cell_type": "code",
   "execution_count": 13,
   "id": "866a5b6b",
   "metadata": {},
   "outputs": [
    {
     "ename": "NameError",
     "evalue": "name 'np' is not defined",
     "output_type": "error",
     "traceback": [
      "\u001b[1;31m---------------------------------------------------------------------------\u001b[0m",
      "\u001b[1;31mNameError\u001b[0m                                 Traceback (most recent call last)",
      "\u001b[1;32m~\\AppData\\Local\\Temp/ipykernel_2120/2316663656.py\u001b[0m in \u001b[0;36m<module>\u001b[1;34m\u001b[0m\n\u001b[1;32m----> 1\u001b[1;33m \u001b[0mprev\u001b[0m \u001b[1;33m=\u001b[0m \u001b[0mnp\u001b[0m\u001b[1;33m.\u001b[0m\u001b[0mempty\u001b[0m\u001b[1;33m(\u001b[0m\u001b[1;33m[\u001b[0m\u001b[1;36m0\u001b[0m\u001b[1;33m,\u001b[0m\u001b[1;36m0\u001b[0m\u001b[1;33m,\u001b[0m\u001b[1;36m0\u001b[0m\u001b[1;33m]\u001b[0m\u001b[1;33m)\u001b[0m\u001b[1;33m\u001b[0m\u001b[1;33m\u001b[0m\u001b[0m\n\u001b[0m\u001b[0;32m      2\u001b[0m \u001b[1;32mwhile\u001b[0m \u001b[1;32mTrue\u001b[0m\u001b[1;33m:\u001b[0m\u001b[1;33m\u001b[0m\u001b[1;33m\u001b[0m\u001b[0m\n\u001b[0;32m      3\u001b[0m     \u001b[0mret\u001b[0m\u001b[1;33m,\u001b[0m \u001b[0morigFrame\u001b[0m \u001b[1;33m=\u001b[0m \u001b[0mcap\u001b[0m\u001b[1;33m.\u001b[0m\u001b[0mread\u001b[0m\u001b[1;33m(\u001b[0m\u001b[1;33m)\u001b[0m\u001b[1;33m\u001b[0m\u001b[1;33m\u001b[0m\u001b[0m\n\u001b[0;32m      4\u001b[0m     \u001b[0mframe\u001b[0m \u001b[1;33m=\u001b[0m \u001b[0mcv2\u001b[0m\u001b[1;33m.\u001b[0m\u001b[0mcvtColor\u001b[0m\u001b[1;33m(\u001b[0m\u001b[0morigFrame\u001b[0m\u001b[1;33m,\u001b[0m \u001b[0mcv2\u001b[0m\u001b[1;33m.\u001b[0m\u001b[0mCOLOR_BGR2GRAY\u001b[0m\u001b[1;33m)\u001b[0m\u001b[1;33m\u001b[0m\u001b[1;33m\u001b[0m\u001b[0m\n\u001b[0;32m      5\u001b[0m     \u001b[0mroi\u001b[0m \u001b[1;33m=\u001b[0m \u001b[0mframe\u001b[0m\u001b[1;33m[\u001b[0m\u001b[1;36m200\u001b[0m\u001b[1;33m:\u001b[0m \u001b[1;36m620\u001b[0m\u001b[1;33m,\u001b[0m \u001b[1;36m500\u001b[0m\u001b[1;33m:\u001b[0m \u001b[1;36m1000\u001b[0m\u001b[1;33m]\u001b[0m\u001b[1;33m\u001b[0m\u001b[1;33m\u001b[0m\u001b[0m\n",
      "\u001b[1;31mNameError\u001b[0m: name 'np' is not defined"
     ]
    }
   ],
   "source": [
    "prev = np.empty([0,0,0])\n",
    "while True:\n",
    "    ret, origFrame = cap.read()\n",
    "    frame = cv2.cvtColor(origFrame, cv2.COLOR_BGR2GRAY)\n",
    "    roi = frame[200: 620, 500: 1000]\n",
    "    if prev.shape!=(0, 0, 0): \n",
    "        diff = cv2.absdiff(prev, roi)\n",
    "        ret, thresh = cv2.threshold(diff, 75, 255, cv2.THRESH_BINARY)\n",
    "        # apply image dilation\n",
    "        kernel = np.ones((5,5),np.uint8)\n",
    "        dilated = cv2.dilate(thresh,kernel,iterations = 1)\n",
    "        # eroded = cv2.erode(dilated, kernel, iterations=1)\n",
    "        blurred = cv2.blur(dilated, (5, 5))\n",
    "        contours, hierarchy = cv2.findContours(blurred.copy(),cv2.RETR_TREE,cv2.CHAIN_APPROX_SIMPLE)\n",
    "\n",
    "        contours = [contour for contour in contours if cv2.contourArea(contour)>100]\n",
    "        contoursLen = str(len(contours))\n",
    "\n",
    "        for contour in contours:\n",
    "                # cv2.drawContours(orig, [contour], -1, (0, 255, 0), 2)\n",
    "                x, y, w, h = cv2.boundingRect(contour)\n",
    "                cv2.rectangle(origFrame, (x+500, y+200), (x+w+500, y+h+200), (0, 255, 0), 2)\n",
    "                cv2.putText(origFrame, contoursLen, (1200, 700), cv2.FONT_HERSHEY_SIMPLEX, 1, (0, 255, 0), 2, cv2.LINE_AA)\n",
    "    cv2.imshow(\"Frame\", origFrame)\n",
    "    # frame = cv2.GaussianBlur(frame, (5, 5), 0)\n",
    "    # frame = cv2.blur(frame, (15, 15))\n",
    "    # kernel = np.ones((3,3),np.uint8)\n",
    "    # frame = cv2.dilate(frame, kernel, iterations=1)\n",
    "    # Region of interest\n",
    "    # print(height, width) 720 X 1280\n",
    "    # roi = frame[200:500, 200: 1000]\n",
    "\n",
    "    # mask = object_detector.apply(roi)\n",
    "    # _, mask = cv2.threshold(mask, 30, 255, cv2.THRESH_BINARY)\n",
    "    # contours, _ = cv2.findContours(mask, cv2.RETR_TREE, cv2.CHAIN_APPROX_SIMPLE)\n",
    "\n",
    "    # contours = sorted(contours, reverse=True, key= lambda x: cv2.contourArea(x))\n",
    "    # if contours: print(contours[0], contours[0].shape, cv2.contourArea(contours[0]))\n",
    "\n",
    "    # for cnt in contours: \n",
    "    #     area = cv2.contourArea(cnt)\n",
    "    #     if area>50:\n",
    "    #         # cv2.drawContours(roi, [cnt], -1, (0, 255, 0), 2)\n",
    "    #         x, y, w, h = cv2.boundingRect(cnt)\n",
    "    #         cv2.rectangle(roi, (x,y), (x+w, y+h), (0, 255, 0), 3)\n",
    "\n",
    "    # cv2.imshow(\"ROI\", roi)\n",
    "    # cv2.imshow(\"Frame\", frame)\n",
    "    prev = frame[200: 620, 500: 1000]\n",
    "    # cv2.imshow(\"Mask\", mask)\n",
    "\n",
    "    key = cv2.waitKey(30)\n",
    " \n",
    "    if key == 27:\n",
    "        break\n",
    "\n",
    "cap.release()\n",
    "cv2.destroyAllWindows()"
   ]
  }
 ],
 "metadata": {
  "kernelspec": {
   "display_name": "Python 3 (ipykernel)",
   "language": "python",
   "name": "python3"
  },
  "language_info": {
   "codemirror_mode": {
    "name": "ipython",
    "version": 3
   },
   "file_extension": ".py",
   "mimetype": "text/x-python",
   "name": "python",
   "nbconvert_exporter": "python",
   "pygments_lexer": "ipython3",
   "version": "3.9.7"
  }
 },
 "nbformat": 4,
 "nbformat_minor": 5
}
